{
 "cells": [
  {
   "cell_type": "code",
   "execution_count": 3,
   "metadata": {},
   "outputs": [],
   "source": [
    "from typing import List"
   ]
  },
  {
   "cell_type": "markdown",
   "metadata": {},
   "source": [
    "## 题目：合并两个有序数组（Easy）\n",
    "给你两个按 非递减顺序 排列的整数数组 `nums1` 和 `nums2`，另有两个整数` m `和` n` ，分别表示 `nums1` 和` nums2` 中的元素数目。  \n",
    "\n",
    "请你 合并 `nums2` 到` nums1` 中，使合并后的数组同样按 **非递减顺序** 排列。\n",
    "\n",
    "**注意：** 最终，合并后数组不应由函数返回，而是存储在数组 `nums1` 中。为了应对这种情况，`nums1 `的初始长度为 `m + n`，其中前 `m` 个元素表示应合并的元素，后 `n` 个元素为 0 ，应忽略。`nums2 `的长度为 n 。"
   ]
  },
  {
   "cell_type": "markdown",
   "metadata": {},
   "source": [
    "**示例1：**  \n",
    "```\n",
    "输入：nums1 = [1,2,3,0,0,0], m = 3, nums2 = [2,5,6], n = 3\n",
    "输出：[1,2,2,3,5,6]\n",
    "解释：需要合并 [1,2,3] 和 [2,5,6] 。\n",
    "合并结果是 [1,2,2,3,5,6] ，其中斜体加粗标注的为 nums1 中的元素。\n",
    "```  \n",
    "**示例2：**  \n",
    "```\n",
    "输入：nums1 = [1], m = 1, nums2 = [], n = 0\n",
    "输出：[1]\n",
    "解释：需要合并 [1] 和 [] 。\n",
    "合并结果是 [1] 。\n",
    "```\n",
    "**示例3:**  \n",
    "```\n",
    "输入：nums1 = [0], m = 0, nums2 = [1], n = 1\n",
    "输出：[1]\n",
    "解释：需要合并的数组是 [] 和 [1] 。\n",
    "合并结果是 [1] 。\n",
    "注意，因为 m = 0 ，所以 nums1 中没有元素。nums1 中仅存的 0 仅仅是为了确保合并结果可以顺利存放到 nums1 中。\n",
    "```"
   ]
  },
  {
   "cell_type": "markdown",
   "metadata": {},
   "source": [
    "**提示：**  \n",
    "- nums1.length == m + n\n",
    "- nums2.length == n\n",
    "- 0 <= m, n <= 200\n",
    "- 1 <= m + n <= 200\n",
    "- -109 <= nums1[i], nums2[j] <= 109\n"
   ]
  },
  {
   "cell_type": "markdown",
   "metadata": {},
   "source": [
    "进阶：你可以设计实现一个时间复杂度为 O(m + n) 的算法解决此问题吗？"
   ]
  },
  {
   "cell_type": "markdown",
   "metadata": {},
   "source": [
    "### 方法1： 直接合并后排序"
   ]
  },
  {
   "cell_type": "markdown",
   "metadata": {},
   "source": [
    "最直观的方法是先将数组`nums2`放进数组`nums1`的尾部，然后直接对整个数组进行排序。\n"
   ]
  },
  {
   "cell_type": "code",
   "execution_count": 2,
   "metadata": {},
   "outputs": [],
   "source": [
    "class Solution:\n",
    "    def merge(self, nums1: List[int], m: int, nums2: List[int], n: int) -> None:\n",
    "        \"\"\"\n",
    "        Do not return anything, modify nums1 in-place instead.\n",
    "        \"\"\"\n",
    "        nums1[m:] = nums2\n",
    "        nums1.sort()"
   ]
  },
  {
   "cell_type": "markdown",
   "metadata": {},
   "source": [
    "### 方法3： 双指针逆序"
   ]
  },
  {
   "cell_type": "code",
   "execution_count": null,
   "metadata": {},
   "outputs": [],
   "source": [
    "class Solution:\n",
    "    def merge(self, nums1: List[int], m: int, nums2: List[int], n: int) -> None:\n",
    "        \"\"\"\n",
    "        Do not return anything, modify nums1 in-place instead.\n",
    "        \"\"\"\n",
    "        len1 = m - 1\n",
    "        len2 = n - 1\n",
    "        pos = m + n -1\n",
    "        while len1 >= 0 or len2 >=0:\n",
    "            if len2 == -1:\n",
    "                nums1[pos] = nums1[len1]\n",
    "                len1 -= 1\n",
    "            elif len1 == -1:\n",
    "                nums1[pos] = nums2[len2]\n",
    "                len2 -= 1\n",
    "\n",
    "            elif nums1[len1] <= nums2[len2]:\n",
    "                nums1[pos] = nums2[len2]\n",
    "                len2 -= 1 \n",
    "            else:\n",
    "                nums1[pos] = nums1[len1]\n",
    "                len1 -= 1\n",
    "            pos -= 1"
   ]
  }
 ],
 "metadata": {
  "kernelspec": {
   "display_name": "Python 3",
   "language": "python",
   "name": "python3"
  },
  "language_info": {
   "codemirror_mode": {
    "name": "ipython",
    "version": 3
   },
   "file_extension": ".py",
   "mimetype": "text/x-python",
   "name": "python",
   "nbconvert_exporter": "python",
   "pygments_lexer": "ipython3",
   "version": "3.7.6"
  }
 },
 "nbformat": 4,
 "nbformat_minor": 4
}
