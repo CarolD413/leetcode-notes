{
 "cells": [
  {
   "cell_type": "markdown",
   "id": "38f9e99c",
   "metadata": {},
   "source": [
    "# 977. 有序数组的平方(Easy)\n",
    "给你一个按 非递减顺序 排序的整数数组 nums，返回 每个数字的平方 组成的新数组，要求也按 非递减顺序 排序。\n",
    "\n",
    " \n",
    "\n",
    "示例 1：\n",
    "\n",
    "输入：nums = [-4,-1,0,3,10]\n",
    "输出：[0,1,9,16,100]\n",
    "解释：平方后，数组变为 [16,1,0,9,100]\n",
    "排序后，数组变为 [0,1,9,16,100]\n",
    "示例 2：\n",
    "\n",
    "输入：nums = [-7,-3,2,3,11]\n",
    "输出：[4,9,9,49,121]\n",
    " \n",
    "\n",
    "提示：\n",
    "\n",
    "1 <= nums.length <= 104\n",
    "-104 <= nums[i] <= 104\n",
    "nums 已按 非递减顺序 排序\n",
    " \n",
    "\n",
    "进阶：\n",
    "\n",
    "请你设计时间复杂度为 O(n) 的算法解决本问题"
   ]
  },
  {
   "cell_type": "code",
   "execution_count": 2,
   "id": "85cd15be",
   "metadata": {},
   "outputs": [],
   "source": [
    "from typing import List"
   ]
  },
  {
   "cell_type": "code",
   "execution_count": 3,
   "id": "d0907194",
   "metadata": {},
   "outputs": [],
   "source": [
    "class Solution:\n",
    "    def sortedSquares(self, nums: List[int]) -> List[int]:\n",
    "        new_list = [num*num for num in nums]\n",
    "        new_list.sort()\n",
    "        return new_list"
   ]
  },
  {
   "cell_type": "markdown",
   "id": "25aef912",
   "metadata": {},
   "source": [
    "## 方法二：双指针\n",
    "最后结果会出现逆序的情况就是负数平方了之后可能会比其他正数大   \n",
    "这样一来，如果我们能够找到数组 $\\textit{nums}$ 中负数与非负数的分界线，那么就可以用类似「归并排序」的方法了。具体地，我们设 $\\textit{neg}$ 为数组 $\\textit{nums}$ 中负数与非负数的分界线，也就是说，$\\textit{nums}[0]$ 到 $\\textit{nums}[\\textit{neg}]$ 均为负数，而 $\\textit{nums}[\\textit{neg}+1]$ 到 $\\textit{nums}[n-1]$ 均为非负数。当我们将数组 $\\textit{nums}$ 中的数平方后，那么 $\\textit{nums}[0]$ 到 $\\textit{nums}[\\textit{neg}]$ 单调递减，$\\textit{nums}[\\textit{neg}+1]$ 到 $\\textit{nums}[n-1]$ 单调递增。"
   ]
  },
  {
   "cell_type": "code",
   "execution_count": null,
   "id": "fc482ea1",
   "metadata": {},
   "outputs": [],
   "source": [
    "class Solution:\n",
    "    def sortedSquares(self, nums: List[int]) -> List[int]:\n",
    "        n = len(nums)\n",
    "        negative = -1\n",
    "        for i, num in enumerate(nums):\n",
    "            if num < 0:\n",
    "                negative = i\n",
    "            else:\n",
    "                break\n",
    "\n",
    "        ans = list()\n",
    "        i, j = negative, negative + 1\n",
    "        while i >= 0 or j < n:\n",
    "            if i < 0:\n",
    "                ans.append(nums[j] * nums[j])\n",
    "                j += 1\n",
    "            elif j == n:\n",
    "                ans.append(nums[i] * nums[i])\n",
    "                i -= 1\n",
    "            elif nums[i] * nums[i] < nums[j] * nums[j]:\n",
    "                ans.append(nums[i] * nums[i])\n",
    "                i -= 1\n",
    "            else:\n",
    "                ans.append(nums[j] * nums[j])\n",
    "                j += 1\n",
    "\n",
    "        return ans"
   ]
  },
  {
   "cell_type": "markdown",
   "id": "8d7aa842",
   "metadata": {},
   "source": [
    "## 方法三：双指针\n",
    "思路与算法\n",
    "\n",
    "同样地，我们可以使用两个指针分别指向位置 0 和 n-1，每次比较两个指针对应的数，选择较大的那个逆序放入答案并移动指针。这种方法无需处理某一指针移动至边界的情况，读者可以仔细思考其精髓所在。"
   ]
  },
  {
   "cell_type": "code",
   "execution_count": null,
   "id": "889c2433",
   "metadata": {},
   "outputs": [],
   "source": [
    "class Solution:\n",
    "    def sortedSquares(self, nums: List[int]) -> List[int]:\n",
    "        n = len(nums)\n",
    "        ans = [0] * n\n",
    "        \n",
    "        i, j, pos = 0, n - 1, n - 1\n",
    "        while i <= j:\n",
    "            if nums[i] * nums[i] > nums[j] * nums[j]:\n",
    "                ans[pos] = nums[i] * nums[i]\n",
    "                i += 1\n",
    "            else:\n",
    "                ans[pos] = nums[j] * nums[j]\n",
    "                j -= 1\n",
    "            pos -= 1\n",
    "        \n",
    "        return ans\n"
   ]
  },
  {
   "cell_type": "markdown",
   "id": "232da1c9",
   "metadata": {},
   "source": [
    "\n",
    "作者：LeetCode-Solution  \n",
    "链接：https://leetcode-cn.com/problems/squares-of-a-sorted-array/solution/you-xu-shu-zu-de-ping-fang-by-leetcode-solution/  \n",
    "来源：力扣（LeetCode）  \n",
    "著作权归作者所有。商业转载请联系作者获得授权，非商业转载请注明出处。"
   ]
  },
  {
   "cell_type": "code",
   "execution_count": null,
   "id": "3be09dbd",
   "metadata": {},
   "outputs": [],
   "source": []
  }
 ],
 "metadata": {
  "kernelspec": {
   "display_name": "Python 3",
   "language": "python",
   "name": "python3"
  },
  "language_info": {
   "codemirror_mode": {
    "name": "ipython",
    "version": 3
   },
   "file_extension": ".py",
   "mimetype": "text/x-python",
   "name": "python",
   "nbconvert_exporter": "python",
   "pygments_lexer": "ipython3",
   "version": "3.6.12"
  }
 },
 "nbformat": 4,
 "nbformat_minor": 5
}
