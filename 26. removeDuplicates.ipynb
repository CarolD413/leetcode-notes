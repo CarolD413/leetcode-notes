{
 "cells": [
  {
   "cell_type": "markdown",
   "id": "90f282c3",
   "metadata": {},
   "source": [
    "# 删除排序数组中的重复项"
   ]
  },
  {
   "cell_type": "markdown",
   "id": "a9846dbd",
   "metadata": {},
   "source": [
    "给你一个有序数组`nums` ，请你**原地**删除重复出现的元素，使每个元素只出现一次返回删除后数组的新长度。  \n",
    "不要使用额外的数组空间，你必须在**原地**修改输入数组 并在使用 O(1) 额外空间的条件下完成。"
   ]
  },
  {
   "cell_type": "markdown",
   "id": "f4d34904",
   "metadata": {},
   "source": [
    "**示例1：**   \n",
    "```\n",
    "输入：nums = [1,1,2]\n",
    "输出：2, nums = [1,2]\n",
    "解释：函数应该返回新的长度 2 ，并且原数组 nums 的前两个元素被修改为 1, 2 。不需要考虑数组中超出新长度后面的元素。\n",
    "```"
   ]
  },
  {
   "cell_type": "markdown",
   "id": "92db5763",
   "metadata": {},
   "source": [
    "**示例2:**   \n",
    "```\n",
    "输入：nums = [0,0,1,1,1,2,2,3,3,4]\n",
    "输出：5, nums = [0,1,2,3,4]\n",
    "解释：函数应该返回新的长度 5 ， 并且原数组 nums 的前五个元素被修改为 0, 1, 2, 3, 4 。不需要考虑数组中超出新长度后面的元素。\n",
    "```"
   ]
  },
  {
   "cell_type": "markdown",
   "id": "1cf97e06",
   "metadata": {},
   "source": [
    "**提示：**  \n",
    "* `0 <= nums.length <= 3 * 104`\n",
    "* `-104 <= nums[i] <= 104`\n",
    "* `nums` 已按升序排列"
   ]
  },
  {
   "cell_type": "markdown",
   "id": "f18d927d",
   "metadata": {},
   "source": [
    "### 解法1. 双指针"
   ]
  },
  {
   "cell_type": "markdown",
   "id": "8a0f2059",
   "metadata": {},
   "source": [
    "慢指针low，指向答案位置；快指针high，用来扫描。当 `nums[low] != nums[high]`，找不到重复项，复制到答案位置，慢指针前进一步"
   ]
  },
  {
   "cell_type": "markdown",
   "id": "fc9bfa79",
   "metadata": {},
   "source": [
    "表 \tLow\tHigh\t是否相等  \n",
    "[1,1,2,3]\t0\t0\t 是   \n",
    "[1,1,2,3]\t0\t1\t 是  \n",
    "[1,1,2,3]\t0\t2\t 否  \n",
    "[1,2,2,3]\t1\t3\t 否  \n",
    "[1,2,3,3]\t2\t3\t 循环结束  "
   ]
  },
  {
   "cell_type": "code",
   "execution_count": 2,
   "id": "ad95433a",
   "metadata": {},
   "outputs": [],
   "source": [
    "from typing import List\n",
    "class Solution:\n",
    "    def removeDuplicate(self, nums: List[int]) -> int:\n",
    "        low = 0\n",
    "        l = len(nums)\n",
    "        if l <= 1:\n",
    "            return 1\n",
    "        else:\n",
    "            for high in range(l):\n",
    "                if nums[low] < nums[high]:\n",
    "                    low = low + 1\n",
    "                    nums[low] = nums[high]\n",
    "                return low + 1"
   ]
  },
  {
   "cell_type": "markdown",
   "id": "0d110672",
   "metadata": {},
   "source": [
    "python逆序删除：删除后数组长度会变化，索引也会变化，所以要用逆序"
   ]
  },
  {
   "cell_type": "code",
   "execution_count": 1,
   "id": "4a78fada",
   "metadata": {},
   "outputs": [],
   "source": [
    "from typing import List\n",
    "class Solution:\n",
    "    def removeDuplicate(self, nums: List[int]) -> int:\n",
    "        for i in range(len(nums) - 1, 0, -1):\n",
    "            if nums[i] == nums[i - 1]: # 数组按顺序排好了\n",
    "                del nums[i]\n",
    "        return len(nums)        "
   ]
  },
  {
   "cell_type": "code",
   "execution_count": null,
   "id": "9241868d",
   "metadata": {},
   "outputs": [],
   "source": []
  }
 ],
 "metadata": {
  "kernelspec": {
   "display_name": "Python 3",
   "language": "python",
   "name": "python3"
  },
  "language_info": {
   "codemirror_mode": {
    "name": "ipython",
    "version": 3
   },
   "file_extension": ".py",
   "mimetype": "text/x-python",
   "name": "python",
   "nbconvert_exporter": "python",
   "pygments_lexer": "ipython3",
   "version": "3.6.12"
  }
 },
 "nbformat": 4,
 "nbformat_minor": 5
}
