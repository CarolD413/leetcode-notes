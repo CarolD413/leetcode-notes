{
 "cells": [
  {
   "cell_type": "markdown",
   "id": "c1e69c61",
   "metadata": {},
   "source": [
    "# 35.搜索插入位置\n",
    "class给定一个排序数组和一个目标值，在数组中找到目标值，并返回其索引。如果目标值不存在于数组中，返回它将会被按顺序插入的位置。  \n",
    "\n",
    "请必须使用时间复杂度为 O(log n) 的算法。  \n",
    "\n",
    " \n",
    "\n",
    "**示例 1:**  \n",
    "```\n",
    "输入: nums = [1,3,5,6], target = 5\n",
    "输出: 2\n",
    "```\n",
    "**示例 2:**  \n",
    "```\n",
    "输入: nums = [1,3,5,6], target = 2\n",
    "输出: 1\n",
    "```\n",
    "**示例 3:**\n",
    "```\n",
    "输入: nums = [1,3,5,6], target = 7\n",
    "输出: 4\n",
    "```\n",
    "**示例 4:**\n",
    "```\n",
    "输入: nums = [1,3,5,6], target = 0\n",
    "输出: 0\n",
    "```\n",
    "**示例 5:**\n",
    "```\n",
    "输入: nums = [1], target = 0\n",
    "输出: 0\n",
    "```\n",
    "\n",
    "**提示:**  \n",
    "- 1 <= nums.length <= 104\n",
    "- -104 <= nums[i] <= 104\n",
    "- nums 为无重复元素的升序排列数组\n",
    "- -104 <= target <= 104"
   ]
  },
  {
   "cell_type": "code",
   "execution_count": null,
   "id": "89145444",
   "metadata": {},
   "outputs": [],
   "source": [
    "class Solution:\n",
    "    def searchInsert(self, nums: List[int], target: int) -> int:\n",
    "        left = 0\n",
    "        right = len(nums) - 1\n",
    "        while left <= right:\n",
    "            pivot = left + (right - left) // 2\n",
    "            print(left, pivot, right)\n",
    "            if target > nums[pivot]:\n",
    "                left = pivot + 1\n",
    "            else:\n",
    "                right = pivot - 1\n",
    "        return left"
   ]
  }
 ],
 "metadata": {
  "kernelspec": {
   "display_name": "Python 3",
   "language": "python",
   "name": "python3"
  },
  "language_info": {
   "codemirror_mode": {
    "name": "ipython",
    "version": 3
   },
   "file_extension": ".py",
   "mimetype": "text/x-python",
   "name": "python",
   "nbconvert_exporter": "python",
   "pygments_lexer": "ipython3",
   "version": "3.6.12"
  }
 },
 "nbformat": 4,
 "nbformat_minor": 5
}
