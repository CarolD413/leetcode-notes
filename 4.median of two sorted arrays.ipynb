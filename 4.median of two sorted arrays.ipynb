{
 "cells": [
  {
   "cell_type": "markdown",
   "metadata": {},
   "source": [
    "## 题目：寻找两个正序数组的中位数（Hard）\n",
    "给定两个大小分别为`m`和 `n` 的正序（从小到大）数组 `nums1` 和 `nums2`。请你找出并返回这两个正序数组的**中位数**。  \n",
    "**示例 1：**   \n",
    "```\n",
    "输入：nums1 = [1,3], nums2 = [2]\n",
    "输出：2.00000\n",
    "解释：合并数组 = [1,2,3] ，中位数 2\n",
    "```\n",
    "\n",
    "**示例 2：**  \n",
    "```\n",
    "输入：nums1 = [1,2], nums2 = [3,4]\n",
    "输出：2.50000\n",
    "解释：合并数组 = [1,2,3,4] ，中位数 (2 + 3) / 2 = 2.5\n",
    "```\n",
    "\n",
    "**示例 3：**  \n",
    "```\n",
    "输入：nums1 = [0,0], nums2 = [0,0]\n",
    "输出：0.00000\n",
    "```  \n",
    "\n",
    "  \n",
    "**提示：**  \n",
    "```\n",
    "nums1.length == m\n",
    "nums2.length == n\n",
    "0 <= m <= 1000\n",
    "0 <= n <= 1000\n",
    "1 <= m + n <= 2000\n",
    "-106 <= nums1[i], nums2[i] <= 106\n",
    "```"
   ]
  },
  {
   "cell_type": "markdown",
   "metadata": {},
   "source": [
    "进阶： 你能设计一个时间复杂度为` O(log (m+n)) `的算法解决此问题吗？"
   ]
  },
  {
   "cell_type": "markdown",
   "metadata": {},
   "source": [
    "## 题解\n",
    "\n",
    "### 方法1：暴力求解\n",
    "\n",
    "- 合并两个有序数组\n",
    "- 排序找到中位数  \n",
    "  \n",
    "  \n",
    "问题：没利用数组已经排序的特点"
   ]
  },
  {
   "cell_type": "code",
   "execution_count": null,
   "metadata": {},
   "outputs": [],
   "source": [
    "import math\n",
    "class Solution:\n",
    "    def findMedianSortedArrays(self, nums1: List[int], nums2: List[int]) -> float:\n",
    "        nums = sorted(nums1 + nums2)\n",
    "        # print(len(nums))\n",
    "        if len(nums) % 2 != 0:\n",
    "            median = nums[math.ceil(len(nums)/2) -1 ]\n",
    "        else:\n",
    "            # print(math.ceil(len(nums)/2))\n",
    "            median = (nums[math.ceil(len(nums)/2) -1 ] + nums[math.ceil(len(nums)/2)]) / 2\n",
    "        return median"
   ]
  },
  {
   "cell_type": "markdown",
   "metadata": {},
   "source": [
    "### 方法2：双指针循环遍历\n",
    "不需要合并两个有序数组，只要找到中位数的位置即可。由于两个数组的长度已知，因此中位数对应的两个数组的下标之和也是已知的。维护两个指针，初始时分别指向两个数组的下标`0`的位置，每次将指向较小值的指针后移一位（如果一个指针已经到达数组末尾，则只需要移动另一个数组的指针），直到到达中位数的位置。"
   ]
  },
  {
   "cell_type": "markdown",
   "metadata": {},
   "source": [
    "### 方法3： 二分查找\n",
    "如果要将复杂度降为`O(log(m+n))`，查找的时候通常需要使用二分查找。   "
   ]
  },
  {
   "cell_type": "markdown",
   "metadata": {},
   "source": [
    "**中位数的定义：** 当m+n是奇数时，中位数是第`(m+n)/2`个元素；当m+n是偶数是，中位数是第`(m+n)/2`和`(m+n)/2+1`个元素的平均值。  \n",
    "因此这道题可以转化为寻找两个有序数组中的第k小的数, `k=(m+n)/2 or (m+n)/2+1`"
   ]
  },
  {
   "cell_type": "markdown",
   "metadata": {},
   "source": [
    "假设两个有序数组A和B, 要找到第k个元素，我们可以比较`A[k/2-1]`和`B[k/2-1]`的大小。对于`A[k/2-1]`和`B[k/2-1]`中较小的值，最多只会有`(k/2-1)+(k/2-1)=k-2`个元素比它小，所以它不可能是第k小的数，前面的数都可以排除掉。"
   ]
  },
  {
   "cell_type": "code",
   "execution_count": null,
   "metadata": {},
   "outputs": [],
   "source": [
    "class Solution:\n",
    "    def findMedianSortedArrays(self, nums1: List[int], nums2: List[int]) -> float:\n",
    "        def getKthElement(k):\n",
    "            \"\"\"\n",
    "            - 主要思路：要找到第 k (k>1) 小的元素，那么就取 pivot1 = nums1[k/2-1] 和 pivot2 = nums2[k/2-1] 进行比较\n",
    "            - 这里的 \"/\" 表示整除\n",
    "            - nums1 中小于等于 pivot1 的元素有 nums1[0 .. k/2-2] 共计 k/2-1 个\n",
    "            - nums2 中小于等于 pivot2 的元素有 nums2[0 .. k/2-2] 共计 k/2-1 个\n",
    "            - 取 pivot = min(pivot1, pivot2)，两个数组中小于等于 pivot 的元素共计不会超过 (k/2-1) + (k/2-1) <= k-2 个\n",
    "            - 这样 pivot 本身最大也只能是第 k-1 小的元素\n",
    "            - 如果 pivot = pivot1，那么 nums1[0 .. k/2-1] 都不可能是第 k 小的元素。把这些元素全部 \"删除\"，剩下的作为新的 nums1 数组\n",
    "            - 如果 pivot = pivot2，那么 nums2[0 .. k/2-1] 都不可能是第 k 小的元素。把这些元素全部 \"删除\"，剩下的作为新的 nums2 数组\n",
    "            - 由于我们 \"删除\" 了一些元素（这些元素都比第 k 小的元素要小），因此需要修改 k 的值，减去删除的数的个数\n",
    "            \"\"\"\n",
    "            \n",
    "            index1, index2 = 0, 0\n",
    "            while True:\n",
    "                # 特殊情况\n",
    "                if index1 == m:\n",
    "                    return nums2[index2 + k - 1]\n",
    "                if index2 == n:\n",
    "                    return nums1[index1 + k - 1]\n",
    "                if k == 1:\n",
    "                    return min(nums1[index1], nums2[index2])\n",
    "\n",
    "                # 正常情况\n",
    "                newIndex1 = min(index1 + k // 2 - 1, m - 1)\n",
    "                newIndex2 = min(index2 + k // 2 - 1, n - 1)\n",
    "                pivot1, pivot2 = nums1[newIndex1], nums2[newIndex2]\n",
    "                if pivot1 <= pivot2:\n",
    "                    k -= newIndex1 - index1 + 1\n",
    "                    index1 = newIndex1 + 1\n",
    "                else:\n",
    "                    k -= newIndex2 - index2 + 1\n",
    "                    index2 = newIndex2 + 1\n",
    "        \n",
    "        m, n = len(nums1), len(nums2)\n",
    "        totalLength = m + n\n",
    "        if totalLength % 2 == 1:\n",
    "            return getKthElement((totalLength + 1) // 2)\n",
    "        else:\n",
    "            return (getKthElement(totalLength // 2) + getKthElement(totalLength // 2 + 1)) / 2"
   ]
  },
  {
   "cell_type": "code",
   "execution_count": null,
   "metadata": {},
   "outputs": [],
   "source": [
    "class Solution:\n",
    "    def findMedianSortedArrays(self, nums1: List[int], nums2: List[int]) -> float:\n",
    "        if len(nums1) > len(nums2):\n",
    "            return self.findMedianSortedArrays(nums2, nums1)\n",
    "\n",
    "        infinty = 2**40\n",
    "        m, n = len(nums1), len(nums2)\n",
    "        left, right = 0, m\n",
    "        # median1：前一部分的最大值\n",
    "        # median2：后一部分的最小值\n",
    "        median1, median2 = 0, 0\n",
    "\n",
    "        while left <= right:\n",
    "            # 前一部分包含 nums1[0 .. i-1] 和 nums2[0 .. j-1]\n",
    "            # // 后一部分包含 nums1[i .. m-1] 和 nums2[j .. n-1]\n",
    "            i = (left + right) // 2\n",
    "            j = (m + n + 1) // 2 - i\n",
    "\n",
    "            # nums_im1, nums_i, nums_jm1, nums_j 分别表示 nums1[i-1], nums1[i], nums2[j-1], nums2[j]\n",
    "            nums_im1 = (-infinty if i == 0 else nums1[i - 1])\n",
    "            nums_i = (infinty if i == m else nums1[i])\n",
    "            nums_jm1 = (-infinty if j == 0 else nums2[j - 1])\n",
    "            nums_j = (infinty if j == n else nums2[j])\n",
    "\n",
    "            if nums_im1 <= nums_j:\n",
    "                median1, median2 = max(nums_im1, nums_jm1), min(nums_i, nums_j)\n",
    "                left = i + 1\n",
    "            else:\n",
    "                right = i - 1\n",
    "\n",
    "        return (median1 + median2) / 2 if (m + n) % 2 == 0 else median1"
   ]
  },
  {
   "cell_type": "markdown",
   "metadata": {},
   "source": [
    "---\n",
    "References:  \n",
    "\n",
    "链接：https://leetcode-cn.com/problems/median-of-two-sorted-arrays/solution/xun-zhao-liang-ge-you-xu-shu-zu-de-zhong-wei-s-114/  \n",
    "来源：力扣（LeetCode）"
   ]
  },
  {
   "cell_type": "code",
   "execution_count": null,
   "metadata": {},
   "outputs": [],
   "source": []
  }
 ],
 "metadata": {
  "kernelspec": {
   "display_name": "Python 3",
   "language": "python",
   "name": "python3"
  },
  "language_info": {
   "codemirror_mode": {
    "name": "ipython",
    "version": 3
   },
   "file_extension": ".py",
   "mimetype": "text/x-python",
   "name": "python",
   "nbconvert_exporter": "python",
   "pygments_lexer": "ipython3",
   "version": "3.7.6"
  }
 },
 "nbformat": 4,
 "nbformat_minor": 4
}
