{
 "cells": [
  {
   "cell_type": "markdown",
   "id": "b9ab84f1",
   "metadata": {},
   "source": [
    "# 题目：二分查找（Easy）\n",
    "给定一个`n` 个元素有序的（升序）整型数组 `nums` 和一个目标值 `target`  ，写一个函数搜索 `nums `中的 `target`，如果目标值存在返回下标，否则返回 -1。"
   ]
  },
  {
   "cell_type": "markdown",
   "id": "281c9700",
   "metadata": {},
   "source": [
    "**示例 1:**  \n",
    "```\n",
    "输入: nums = [-1,0,3,5,9,12], target = 9\n",
    "输出: 4\n",
    "解释: 9 出现在 nums 中并且下标为 4\n",
    "```\n",
    "**示例 2:**  \n",
    "```\n",
    "输入: nums = [-1,0,3,5,9,12], target = 2\n",
    "输出: -1\n",
    "解释: 2 不存在 nums 中因此返回 -1\n",
    "```"
   ]
  },
  {
   "cell_type": "markdown",
   "id": "fc1ce4e6",
   "metadata": {},
   "source": [
    "**提示：**  \n",
    "\n",
    "- 你可以假设 nums 中的所有元素是不重复的。  \n",
    "- n 将在 [1, 10000]之间。  \n",
    "- nums 的每个元素都将在 [-9999, 9999]之间。  "
   ]
  },
  {
   "cell_type": "markdown",
   "id": "ee6fab17",
   "metadata": {},
   "source": [
    "# 题解"
   ]
  },
  {
   "cell_type": "markdown",
   "id": "231758ad",
   "metadata": {},
   "source": [
    "使用二分查找，设置三个指针: left, right, pivot"
   ]
  },
  {
   "cell_type": "markdown",
   "id": "afbf570d",
   "metadata": {},
   "source": [
    "- 初始化指针 left = 0, right = n - 1。  \n",
    "- 当 left <= right：\n",
    "    - 比较中间元素 `nums[pivot]` 和目标值 target 。\n",
    "        - 如果 `target = nums[pivot]`，返回 pivot。\n",
    "        - 如果 `target < nums[pivot]`，则在左侧继续搜索 right = pivot - 1。\n",
    "        - 如果 `target > nums[pivot]`，则在右侧继续搜索 left = pivot + 1。"
   ]
  },
  {
   "cell_type": "code",
   "execution_count": null,
   "id": "db0e4689",
   "metadata": {},
   "outputs": [],
   "source": [
    "class Solution:\n",
    "    def search(self, nums: List[int], target: int) -> int:\n",
    "        left = 0\n",
    "        right = len(nums) - 1\n",
    "        while left <= right:\n",
    "            pivot = left + (right - left) // 2\n",
    "            if nums[pivot] == target:\n",
    "                return pivot\n",
    "            elif target < nums[pivot]:\n",
    "                right = pivot - 1\n",
    "            else:\n",
    "                left = pivot + 1\n",
    "        return -1"
   ]
  },
  {
   "cell_type": "markdown",
   "id": "4eb2f500",
   "metadata": {},
   "source": [
    "### 复杂度分析\n",
    "\n",
    "时间复杂度：$\\mathcal{O}(\\log N)$。  \n",
    "空间复杂度：$\\mathcal{O}(1)$。"
   ]
  },
  {
   "cell_type": "markdown",
   "id": "eff1f379",
   "metadata": {},
   "source": [
    "---\n",
    "References:  \n",
    "https://leetcode-cn.com/problems/binary-search/solution/er-fen-cha-zhao-by-leetcode/"
   ]
  }
 ],
 "metadata": {
  "kernelspec": {
   "display_name": "Python 3",
   "language": "python",
   "name": "python3"
  },
  "language_info": {
   "codemirror_mode": {
    "name": "ipython",
    "version": 3
   },
   "file_extension": ".py",
   "mimetype": "text/x-python",
   "name": "python",
   "nbconvert_exporter": "python",
   "pygments_lexer": "ipython3",
   "version": "3.6.12"
  }
 },
 "nbformat": 4,
 "nbformat_minor": 5
}
