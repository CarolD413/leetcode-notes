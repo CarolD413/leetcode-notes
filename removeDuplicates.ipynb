{
 "cells": [
  {
   "cell_type": "markdown",
   "id": "653d347b",
   "metadata": {},
   "source": [
    "# 删除排序数组中的重复项"
   ]
  },
  {
   "cell_type": "markdown",
   "id": "e7c2120f",
   "metadata": {},
   "source": [
    "给你一个有序数组`nums` ，请你**原地**删除重复出现的元素，使每个元素只出现一次返回删除后数组的新长度。  \n",
    "不要使用额外的数组空间，你必须在**原地**修改输入数组 并在使用 O(1) 额外空间的条件下完成。"
   ]
  },
  {
   "cell_type": "markdown",
   "id": "3657d7e6",
   "metadata": {},
   "source": [
    "**示例1：**   \n",
    "```\n",
    "输入：nums = [1,1,2]\n",
    "输出：2, nums = [1,2]\n",
    "解释：函数应该返回新的长度 2 ，并且原数组 nums 的前两个元素被修改为 1, 2 。不需要考虑数组中超出新长度后面的元素。\n",
    "```"
   ]
  },
  {
   "cell_type": "markdown",
   "id": "eb7247d1",
   "metadata": {},
   "source": [
    "**示例2:**   \n",
    "```\n",
    "输入：nums = [0,0,1,1,1,2,2,3,3,4]\n",
    "输出：5, nums = [0,1,2,3,4]\n",
    "解释：函数应该返回新的长度 5 ， 并且原数组 nums 的前五个元素被修改为 0, 1, 2, 3, 4 。不需要考虑数组中超出新长度后面的元素。\n",
    "```"
   ]
  },
  {
   "cell_type": "markdown",
   "id": "676541c5",
   "metadata": {},
   "source": [
    "**提示：**  \n",
    "* `0 <= nums.length <= 3 * 104`\n",
    "* `-104 <= nums[i] <= 104`\n",
    "* `nums` 已按升序排列"
   ]
  },
  {
   "cell_type": "markdown",
   "id": "4d1aeae7",
   "metadata": {},
   "source": [
    "### 解法1."
   ]
  },
  {
   "cell_type": "markdown",
   "id": "2dfa8ee2",
   "metadata": {},
   "source": [
    "python逆序删除：删除后数组长度会变化，索引也会变化，所以要用逆序"
   ]
  },
  {
   "cell_type": "code",
   "execution_count": 1,
   "id": "c8c4a25f",
   "metadata": {},
   "outputs": [],
   "source": [
    "from typing import List\n",
    "class Solution:\n",
    "    def removeDuplicate(self, nums: List[int]) -> int:\n",
    "        for i in range(len(nums) - 1, 0, -1):\n",
    "            if nums[i] == nums[i - 1]: # 数组按顺序排好了\n",
    "                del nums[i]\n",
    "        return len(nums)        "
   ]
  },
  {
   "cell_type": "code",
   "execution_count": null,
   "id": "d40d26c4",
   "metadata": {},
   "outputs": [],
   "source": []
  }
 ],
 "metadata": {
  "kernelspec": {
   "display_name": "Python 3",
   "language": "python",
   "name": "python3"
  },
  "language_info": {
   "codemirror_mode": {
    "name": "ipython",
    "version": 3
   },
   "file_extension": ".py",
   "mimetype": "text/x-python",
   "name": "python",
   "nbconvert_exporter": "python",
   "pygments_lexer": "ipython3",
   "version": "3.6.12"
  }
 },
 "nbformat": 4,
 "nbformat_minor": 5
}
